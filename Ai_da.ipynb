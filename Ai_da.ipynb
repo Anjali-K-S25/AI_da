{
  "cells": [
    {
      "cell_type": "markdown",
      "metadata": {
        "id": "view-in-github",
        "colab_type": "text"
      },
      "source": [
        "<a href=\"https://colab.research.google.com/github/Anjali-K-S25/AI_da/blob/main/Ai_da.ipynb\" target=\"_parent\"><img src=\"https://colab.research.google.com/assets/colab-badge.svg\" alt=\"Open In Colab\"/></a>"
      ]
    },
    {
      "cell_type": "code",
      "source": [
        "# Remove problematic widget metadata if it exists\n",
        "if 'widgets' in get_ipython().kernel._parent_header.get('metadata', {}):\n",
        "    del get_ipython().kernel._parent_header['metadata']['widgets']\n",
        "    print(\"Fixed: Removed widget metadata from parent header.\")\n",
        "else:\n",
        "    print(\"No widget metadata issue found in current session.\")"
      ],
      "metadata": {
        "colab": {
          "base_uri": "https://localhost:8080/"
        },
        "id": "QFc5dw_cjNev",
        "outputId": "78dd1a6a-44c8-4379-90c5-a2a0af7c5dab"
      },
      "execution_count": null,
      "outputs": [
        {
          "output_type": "stream",
          "name": "stdout",
          "text": [
            "No widget metadata issue found in current session.\n"
          ]
        },
        {
          "output_type": "stream",
          "name": "stderr",
          "text": [
            "<ipython-input-15-3142456831>:2: DeprecationWarning: Kernel._parent_header is deprecated in ipykernel 6. Use .get_parent()\n",
            "  if 'widgets' in get_ipython().kernel._parent_header.get('metadata', {}):\n"
          ]
        }
      ]
    },
    {
      "cell_type": "code",
      "execution_count": null,
      "metadata": {
        "id": "iZjxs99MSxqq"
      },
      "outputs": [],
      "source": [
        "!pip install -q transformers torch scikit-learn pandas"
      ]
    },
    {
      "cell_type": "code",
      "execution_count": null,
      "metadata": {
        "colab": {
          "base_uri": "https://localhost:8080/"
        },
        "id": "wSpR_FYlX-0O",
        "outputId": "4926ddec-9716-46cf-bd0e-ff3463750fde"
      },
      "outputs": [
        {
          "output_type": "stream",
          "name": "stdout",
          "text": [
            "Requirement already satisfied: transformers in /usr/local/lib/python3.11/dist-packages (4.52.4)\n",
            "Requirement already satisfied: filelock in /usr/local/lib/python3.11/dist-packages (from transformers) (3.18.0)\n",
            "Requirement already satisfied: huggingface-hub<1.0,>=0.30.0 in /usr/local/lib/python3.11/dist-packages (from transformers) (0.32.4)\n",
            "Requirement already satisfied: numpy>=1.17 in /usr/local/lib/python3.11/dist-packages (from transformers) (2.0.2)\n",
            "Requirement already satisfied: packaging>=20.0 in /usr/local/lib/python3.11/dist-packages (from transformers) (24.2)\n",
            "Requirement already satisfied: pyyaml>=5.1 in /usr/local/lib/python3.11/dist-packages (from transformers) (6.0.2)\n",
            "Requirement already satisfied: regex!=2019.12.17 in /usr/local/lib/python3.11/dist-packages (from transformers) (2024.11.6)\n",
            "Requirement already satisfied: requests in /usr/local/lib/python3.11/dist-packages (from transformers) (2.32.3)\n",
            "Requirement already satisfied: tokenizers<0.22,>=0.21 in /usr/local/lib/python3.11/dist-packages (from transformers) (0.21.1)\n",
            "Requirement already satisfied: safetensors>=0.4.3 in /usr/local/lib/python3.11/dist-packages (from transformers) (0.5.3)\n",
            "Requirement already satisfied: tqdm>=4.27 in /usr/local/lib/python3.11/dist-packages (from transformers) (4.67.1)\n",
            "Requirement already satisfied: fsspec>=2023.5.0 in /usr/local/lib/python3.11/dist-packages (from huggingface-hub<1.0,>=0.30.0->transformers) (2025.3.2)\n",
            "Requirement already satisfied: typing-extensions>=3.7.4.3 in /usr/local/lib/python3.11/dist-packages (from huggingface-hub<1.0,>=0.30.0->transformers) (4.14.0)\n",
            "Requirement already satisfied: hf-xet<2.0.0,>=1.1.2 in /usr/local/lib/python3.11/dist-packages (from huggingface-hub<1.0,>=0.30.0->transformers) (1.1.2)\n",
            "Requirement already satisfied: charset-normalizer<4,>=2 in /usr/local/lib/python3.11/dist-packages (from requests->transformers) (3.4.2)\n",
            "Requirement already satisfied: idna<4,>=2.5 in /usr/local/lib/python3.11/dist-packages (from requests->transformers) (3.10)\n",
            "Requirement already satisfied: urllib3<3,>=1.21.1 in /usr/local/lib/python3.11/dist-packages (from requests->transformers) (2.4.0)\n",
            "Requirement already satisfied: certifi>=2017.4.17 in /usr/local/lib/python3.11/dist-packages (from requests->transformers) (2025.4.26)\n"
          ]
        }
      ],
      "source": [
        "!pip install transformers"
      ]
    },
    {
      "cell_type": "code",
      "execution_count": null,
      "metadata": {
        "id": "GLTs6mcdTNul"
      },
      "outputs": [],
      "source": [
        "import random\n",
        "import pandas as pd\n",
        "\n",
        "# Dream templates for each emotion\n",
        "dream_templates = {\n",
        "    \"peace\": [\n",
        "        \"I was floating on a calm lake under the stars\",\n",
        "        \"I saw a serene waterfall in a forest\",\n",
        "        \"I was lying in a meadow with soft sunlight\",\n",
        "        \"I was meditating on a mountaintop in silence\"\n",
        "    ],\n",
        "    \"anxiety\": [\n",
        "        \"I was lost in a huge unfamiliar city\",\n",
        "        \"I was late for an important exam and couldn’t find the hall\",\n",
        "        \"I was running from something invisible in a maze\",\n",
        "        \"I was stuck in traffic while missing a flight\"\n",
        "    ],\n",
        "    \"fear\": [\n",
        "        \"I was falling endlessly into a black void\",\n",
        "        \"I was being chased by shadows in a haunted house\",\n",
        "        \"I was locked in a room and couldn’t escape\",\n",
        "        \"I saw a loved one disappearing into smoke\"\n",
        "    ],\n",
        "    \"happiness\": [\n",
        "        \"I was celebrating my birthday with all my friends\",\n",
        "        \"I was dancing at a colorful festival with lights\",\n",
        "        \"I met my childhood friend after many years\",\n",
        "        \"I was petting playful puppies in a park\"\n",
        "    ]\n",
        "}\n",
        "\n",
        "# Generate 100 dream entries\n",
        "dreams = []\n",
        "emotions = []\n",
        "\n",
        "for _ in range(25):\n",
        "    for emotion, templates in dream_templates.items():\n",
        "        dream = random.choice(templates) + random.choice([\n",
        "            \".\", \" It felt so real.\", \" Then I woke up smiling.\",\n",
        "            \" It made me feel calm.\", \" I couldn't forget it all day.\"\n",
        "        ])\n",
        "        dreams.append(dream)\n",
        "        emotions.append(emotion)\n",
        "\n",
        "dream_data = pd.DataFrame({'dream': dreams, 'emotion': emotions})"
      ]
    },
    {
      "cell_type": "code",
      "execution_count": null,
      "metadata": {
        "id": "gHIzwuz4TbRZ"
      },
      "outputs": [],
      "source": [
        "from sklearn.model_selection import train_test_split\n",
        "from sklearn.preprocessing import LabelEncoder\n",
        "\n",
        "le = LabelEncoder()\n",
        "dream_data['label'] = le.fit_transform(dream_data['emotion'])\n",
        "\n",
        "X_train, X_test, y_train, y_test = train_test_split(\n",
        "    dream_data['dream'], dream_data['label'], test_size=0.5, random_state=42)"
      ]
    },
    {
      "cell_type": "code",
      "execution_count": null,
      "metadata": {
        "id": "E2JBwEZ1TewE"
      },
      "outputs": [],
      "source": [
        "import torch\n",
        "from torch.utils.data import Dataset, DataLoader\n",
        "from transformers import AutoTokenizer\n",
        "tokenizer = AutoTokenizer.from_pretrained(\"distilbert-base-uncased\")\n",
        "\n",
        "class DreamDataset(Dataset):\n",
        "    def __init__(self, texts, labels):\n",
        "        self.encodings = tokenizer(list(texts), truncation=True, padding=True, return_tensors=\"pt\")\n",
        "        self.labels = torch.tensor(labels.tolist())\n",
        "\n",
        "    def __len__(self):\n",
        "        return len(self.labels)\n",
        "\n",
        "    def __getitem__(self, idx):\n",
        "        return {\n",
        "            'input_ids': self.encodings['input_ids'][idx],\n",
        "            'attention_mask': self.encodings['attention_mask'][idx],\n",
        "            'labels': self.labels[idx]\n",
        "        }\n",
        "\n",
        "train_dataset = DreamDataset(X_train, y_train)\n",
        "test_dataset = DreamDataset(X_test, y_test)\n",
        "\n",
        "train_loader = DataLoader(train_dataset, batch_size=4, shuffle=True)\n",
        "test_loader = DataLoader(test_dataset, batch_size=4)"
      ]
    },
    {
      "cell_type": "code",
      "execution_count": null,
      "metadata": {
        "id": "Xd7IfwpjTu8i"
      },
      "outputs": [],
      "source": [
        "import torch\n",
        "import torch.nn as nn\n",
        "from transformers import AutoModel\n",
        "from torch.optim import AdamW\n",
        "\n",
        "# Define model class\n",
        "class DreamClassifier(nn.Module):\n",
        "    def __init__(self, num_labels):\n",
        "        super(DreamClassifier, self).__init__()\n",
        "        self.bert = AutoModel.from_pretrained('distilbert-base-uncased')\n",
        "        self.relu = nn.ReLU()\n",
        "        self.dropout = nn.Dropout(0.3)\n",
        "        self.classifier = nn.Linear(768, num_labels)\n",
        "\n",
        "    def forward(self, input_ids, attention_mask):\n",
        "        outputs = self.bert(input_ids=input_ids, attention_mask=attention_mask)\n",
        "        x = self.relu(outputs.last_hidden_state[:, 0, :])  # [CLS] token\n",
        "        x = self.dropout(x)\n",
        "        return self.classifier(x)\n",
        "\n",
        "# Set device\n",
        "device = torch.device(\"cuda\" if torch.cuda.is_available() else \"cpu\")\n",
        "\n",
        "# Initialize model\n",
        "model = DreamClassifier(num_labels=len(le.classes_)).to(device)\n",
        "\n",
        "# Optimizer and loss function\n",
        "optimizer = AdamW(model.parameters(), lr=5e-5)\n",
        "loss_fn = nn.CrossEntropyLoss()"
      ]
    },
    {
      "cell_type": "code",
      "execution_count": null,
      "metadata": {
        "colab": {
          "base_uri": "https://localhost:8080/"
        },
        "id": "NHoxf4igZv7x",
        "outputId": "195fcc5e-a2ba-462e-b650-4af488c3d3db"
      },
      "outputs": [
        {
          "output_type": "stream",
          "name": "stdout",
          "text": [
            "Epoch 1/13 → Train Loss: 1.3657, Train Acc: 0.3200, Val Loss: 1.1578, Val Acc: 0.6400\n",
            "Epoch 2/13 → Train Loss: 0.8184, Train Acc: 0.8800, Val Loss: 0.4933, Val Acc: 0.9800\n",
            "Epoch 3/13 → Train Loss: 0.2714, Train Acc: 1.0000, Val Loss: 0.1900, Val Acc: 0.9800\n",
            "Epoch 4/13 → Train Loss: 0.0960, Train Acc: 1.0000, Val Loss: 0.1168, Val Acc: 1.0000\n",
            "Epoch 5/13 → Train Loss: 0.0530, Train Acc: 1.0000, Val Loss: 0.0795, Val Acc: 1.0000\n",
            "Epoch 6/13 → Train Loss: 0.0373, Train Acc: 1.0000, Val Loss: 0.0665, Val Acc: 1.0000\n",
            "Epoch 7/13 → Train Loss: 0.0295, Train Acc: 1.0000, Val Loss: 0.0597, Val Acc: 1.0000\n",
            "Epoch 8/13 → Train Loss: 0.0222, Train Acc: 1.0000, Val Loss: 0.0570, Val Acc: 1.0000\n",
            "Epoch 9/13 → Train Loss: 0.0201, Train Acc: 1.0000, Val Loss: 0.0536, Val Acc: 1.0000\n",
            "Epoch 10/13 → Train Loss: 0.0172, Train Acc: 1.0000, Val Loss: 0.0516, Val Acc: 1.0000\n",
            "Epoch 11/13 → Train Loss: 0.0159, Train Acc: 1.0000, Val Loss: 0.0506, Val Acc: 1.0000\n",
            "Epoch 12/13 → Train Loss: 0.0163, Train Acc: 1.0000, Val Loss: 0.0488, Val Acc: 1.0000\n",
            "Epoch 13/13 → Train Loss: 0.0140, Train Acc: 1.0000, Val Loss: 0.0464, Val Acc: 1.0000\n"
          ]
        }
      ],
      "source": [
        "import torch\n",
        "import torch.nn.functional as F\n",
        "import matplotlib.pyplot as plt\n",
        "\n",
        "# Store metrics for plotting\n",
        "train_losses = []\n",
        "val_losses = []\n",
        "train_accuracies = []\n",
        "val_accuracies = []\n",
        "\n",
        "# Move model to train mode\n",
        "model.train()\n",
        "EPOCHS = 13\n",
        "\n",
        "for epoch in range(EPOCHS):\n",
        "    total_train_loss = 0\n",
        "    correct_train = 0\n",
        "    total_train = 0\n",
        "\n",
        "    for batch in train_loader:\n",
        "        optimizer.zero_grad()\n",
        "        input_ids = batch['input_ids'].to(device)\n",
        "        attention_mask = batch['attention_mask'].to(device)\n",
        "        labels = batch['labels'].to(device)\n",
        "\n",
        "        outputs = model(input_ids, attention_mask)\n",
        "        loss = loss_fn(outputs, labels)\n",
        "        loss.backward()\n",
        "        optimizer.step()\n",
        "\n",
        "        total_train_loss += loss.item()\n",
        "        preds = torch.argmax(outputs, dim=1)\n",
        "        correct_train += (preds == labels).sum().item()\n",
        "        total_train += labels.size(0)\n",
        "\n",
        "    avg_train_loss = total_train_loss / len(train_loader)\n",
        "    train_accuracy = correct_train / total_train\n",
        "    train_losses.append(avg_train_loss)\n",
        "    train_accuracies.append(train_accuracy)\n",
        "\n",
        "    # ====== Validation ======\n",
        "    model.eval()\n",
        "    total_val_loss = 0\n",
        "    correct_val = 0\n",
        "    total_val = 0\n",
        "\n",
        "    with torch.no_grad():\n",
        "        for batch in test_loader:\n",
        "            input_ids = batch['input_ids'].to(device)\n",
        "            attention_mask = batch['attention_mask'].to(device)\n",
        "            labels = batch['labels'].to(device)\n",
        "\n",
        "            outputs = model(input_ids, attention_mask)\n",
        "            loss = loss_fn(outputs, labels)\n",
        "\n",
        "            total_val_loss += loss.item()\n",
        "            preds = torch.argmax(outputs, dim=1)\n",
        "            correct_val += (preds == labels).sum().item()\n",
        "            total_val += labels.size(0)\n",
        "\n",
        "    avg_val_loss = total_val_loss / len(test_loader)\n",
        "    val_accuracy = correct_val / total_val\n",
        "    val_losses.append(avg_val_loss)\n",
        "    val_accuracies.append(val_accuracy)\n",
        "\n",
        "    print(f\"Epoch {epoch+1}/{EPOCHS} → Train Loss: {avg_train_loss:.4f}, Train Acc: {train_accuracy:.4f}, Val Loss: {avg_val_loss:.4f}, Val Acc: {val_accuracy:.4f}\")\n",
        "\n",
        "    model.train()  # set back to training mode"
      ]
    },
    {
      "cell_type": "code",
      "execution_count": null,
      "metadata": {
        "colab": {
          "base_uri": "https://localhost:8080/",
          "height": 155
        },
        "id": "e1QiYcLxaDdv",
        "outputId": "c517a21e-02cf-424f-f079-096cceb0eea3"
      },
      "outputs": [
        {
          "output_type": "display_data",
          "data": {
            "text/plain": [
              "<Figure size 1200x500 with 2 Axes>"
            ],
            "image/png": "[encoded data removed]"
          },
          "metadata": {}
        }
      ],
      "source": [
        "# Plot Training & Validation Loss\n",
        "plt.figure(figsize=(12, 5))\n",
        "\n",
        "plt.subplot(1, 2, 1)\n",
        "plt.plot(train_losses, label='Train Loss', marker='o')\n",
        "plt.plot(val_losses, label='Validation Loss', marker='o')\n",
        "plt.title('Loss over Epochs')\n",
        "plt.xlabel('Epoch')\n",
        "plt.ylabel('Loss')\n",
        "plt.legend()\n",
        "\n",
        "# Plot Training & Validation Accuracy\n",
        "plt.subplot(1, 2, 2)\n",
        "plt.plot(train_accuracies, label='Train Accuracy', marker='o')\n",
        "plt.plot(val_accuracies, label='Validation Accuracy', marker='o')\n",
        "plt.title('Accuracy over Epochs')\n",
        "plt.xlabel('Epoch')\n",
        "plt.ylabel('Accuracy')\n",
        "plt.legend()\n",
        "\n",
        "plt.tight_layout()\n",
        "plt.show()"
      ]
    },
    {
      "cell_type": "code",
      "execution_count": null,
      "metadata": {
        "colab": {
          "base_uri": "https://localhost:8080/"
        },
        "id": "7AuhfBGhb2wA",
        "outputId": "979c71bc-d937-4699-b4d8-6f9a63eabd96"
      },
      "outputs": [
        {
          "output_type": "stream",
          "name": "stdout",
          "text": [
            "Requirement already satisfied: gradio in /usr/local/lib/python3.11/dist-packages (5.31.0)\n",
            "Requirement already satisfied: aiofiles<25.0,>=22.0 in /usr/local/lib/python3.11/dist-packages (from gradio) (24.1.0)\n",
            "Requirement already satisfied: anyio<5.0,>=3.0 in /usr/local/lib/python3.11/dist-packages (from gradio) (4.9.0)\n",
            "Requirement already satisfied: fastapi<1.0,>=0.115.2 in /usr/local/lib/python3.11/dist-packages (from gradio) (0.115.12)\n",
            "Requirement already satisfied: ffmpy in /usr/local/lib/python3.11/dist-packages (from gradio) (0.6.0)\n",
            "Requirement already satisfied: gradio-client==1.10.1 in /usr/local/lib/python3.11/dist-packages (from gradio) (1.10.1)\n",
            "Requirement already satisfied: groovy~=0.1 in /usr/local/lib/python3.11/dist-packages (from gradio) (0.1.2)\n",
            "Requirement already satisfied: httpx>=0.24.1 in /usr/local/lib/python3.11/dist-packages (from gradio) (0.28.1)\n",
            "Requirement already satisfied: huggingface-hub>=0.28.1 in /usr/local/lib/python3.11/dist-packages (from gradio) (0.32.4)\n",
            "Requirement already satisfied: jinja2<4.0 in /usr/local/lib/python3.11/dist-packages (from gradio) (3.1.6)\n",
            "Requirement already satisfied: markupsafe<4.0,>=2.0 in /usr/local/lib/python3.11/dist-packages (from gradio) (3.0.2)\n",
            "Requirement already satisfied: numpy<3.0,>=1.0 in /usr/local/lib/python3.11/dist-packages (from gradio) (2.0.2)\n",
            "Requirement already satisfied: orjson~=3.0 in /usr/local/lib/python3.11/dist-packages (from gradio) (3.10.18)\n",
            "Requirement already satisfied: packaging in /usr/local/lib/python3.11/dist-packages (from gradio) (24.2)\n",
            "Requirement already satisfied: pandas<3.0,>=1.0 in /usr/local/lib/python3.11/dist-packages (from gradio) (2.2.2)\n",
            "Requirement already satisfied: pillow<12.0,>=8.0 in /usr/local/lib/python3.11/dist-packages (from gradio) (11.2.1)\n",
            "Requirement already satisfied: pydantic<2.12,>=2.0 in /usr/local/lib/python3.11/dist-packages (from gradio) (2.11.5)\n",
            "Requirement already satisfied: pydub in /usr/local/lib/python3.11/dist-packages (from gradio) (0.25.1)\n",
            "Requirement already satisfied: python-multipart>=0.0.18 in /usr/local/lib/python3.11/dist-packages (from gradio) (0.0.20)\n",
            "Requirement already satisfied: pyyaml<7.0,>=5.0 in /usr/local/lib/python3.11/dist-packages (from gradio) (6.0.2)\n",
            "Requirement already satisfied: ruff>=0.9.3 in /usr/local/lib/python3.11/dist-packages (from gradio) (0.11.12)\n",
            "Requirement already satisfied: safehttpx<0.2.0,>=0.1.6 in /usr/local/lib/python3.11/dist-packages (from gradio) (0.1.6)\n",
            "Requirement already satisfied: semantic-version~=2.0 in /usr/local/lib/python3.11/dist-packages (from gradio) (2.10.0)\n",
            "Requirement already satisfied: starlette<1.0,>=0.40.0 in /usr/local/lib/python3.11/dist-packages (from gradio) (0.46.2)\n",
            "Requirement already satisfied: tomlkit<0.14.0,>=0.12.0 in /usr/local/lib/python3.11/dist-packages (from gradio) (0.13.2)\n",
            "Requirement already satisfied: typer<1.0,>=0.12 in /usr/local/lib/python3.11/dist-packages (from gradio) (0.16.0)\n",
            "Requirement already satisfied: typing-extensions~=4.0 in /usr/local/lib/python3.11/dist-packages (from gradio) (4.14.0)\n",
            "Requirement already satisfied: uvicorn>=0.14.0 in /usr/local/lib/python3.11/dist-packages (from gradio) (0.34.3)\n",
            "Requirement already satisfied: fsspec in /usr/local/lib/python3.11/dist-packages (from gradio-client==1.10.1->gradio) (2025.3.2)\n",
            "Requirement already satisfied: websockets<16.0,>=10.0 in /usr/local/lib/python3.11/dist-packages (from gradio-client==1.10.1->gradio) (15.0.1)\n",
            "Requirement already satisfied: idna>=2.8 in /usr/local/lib/python3.11/dist-packages (from anyio<5.0,>=3.0->gradio) (3.10)\n",
            "Requirement already satisfied: sniffio>=1.1 in /usr/local/lib/python3.11/dist-packages (from anyio<5.0,>=3.0->gradio) (1.3.1)\n",
            "Requirement already satisfied: certifi in /usr/local/lib/python3.11/dist-packages (from httpx>=0.24.1->gradio) (2025.4.26)\n",
            "Requirement already satisfied: httpcore==1.* in /usr/local/lib/python3.11/dist-packages (from httpx>=0.24.1->gradio) (1.0.9)\n",
            "Requirement already satisfied: h11>=0.16 in /usr/local/lib/python3.11/dist-packages (from httpcore==1.*->httpx>=0.24.1->gradio) (0.16.0)\n",
            "Requirement already satisfied: filelock in /usr/local/lib/python3.11/dist-packages (from huggingface-hub>=0.28.1->gradio) (3.18.0)\n",
            "Requirement already satisfied: requests in /usr/local/lib/python3.11/dist-packages (from huggingface-hub>=0.28.1->gradio) (2.32.3)\n",
            "Requirement already satisfied: tqdm>=4.42.1 in /usr/local/lib/python3.11/dist-packages (from huggingface-hub>=0.28.1->gradio) (4.67.1)\n",
            "Requirement already satisfied: hf-xet<2.0.0,>=1.1.2 in /usr/local/lib/python3.11/dist-packages (from huggingface-hub>=0.28.1->gradio) (1.1.2)\n",
            "Requirement already satisfied: python-dateutil>=2.8.2 in /usr/local/lib/python3.11/dist-packages (from pandas<3.0,>=1.0->gradio) (2.9.0.post0)\n",
            "Requirement already satisfied: pytz>=2020.1 in /usr/local/lib/python3.11/dist-packages (from pandas<3.0,>=1.0->gradio) (2025.2)\n",
            "Requirement already satisfied: tzdata>=2022.7 in /usr/local/lib/python3.11/dist-packages (from pandas<3.0,>=1.0->gradio) (2025.2)\n",
            "Requirement already satisfied: annotated-types>=0.6.0 in /usr/local/lib/python3.11/dist-packages (from pydantic<2.12,>=2.0->gradio) (0.7.0)\n",
            "Requirement already satisfied: pydantic-core==2.33.2 in /usr/local/lib/python3.11/dist-packages (from pydantic<2.12,>=2.0->gradio) (2.33.2)\n",
            "Requirement already satisfied: typing-inspection>=0.4.0 in /usr/local/lib/python3.11/dist-packages (from pydantic<2.12,>=2.0->gradio) (0.4.1)\n",
            "Requirement already satisfied: click>=8.0.0 in /usr/local/lib/python3.11/dist-packages (from typer<1.0,>=0.12->gradio) (8.2.1)\n",
            "Requirement already satisfied: shellingham>=1.3.0 in /usr/local/lib/python3.11/dist-packages (from typer<1.0,>=0.12->gradio) (1.5.4)\n",
            "Requirement already satisfied: rich>=10.11.0 in /usr/local/lib/python3.11/dist-packages (from typer<1.0,>=0.12->gradio) (13.9.4)\n",
            "Requirement already satisfied: six>=1.5 in /usr/local/lib/python3.11/dist-packages (from python-dateutil>=2.8.2->pandas<3.0,>=1.0->gradio) (1.17.0)\n",
            "Requirement already satisfied: markdown-it-py>=2.2.0 in /usr/local/lib/python3.11/dist-packages (from rich>=10.11.0->typer<1.0,>=0.12->gradio) (3.0.0)\n",
            "Requirement already satisfied: pygments<3.0.0,>=2.13.0 in /usr/local/lib/python3.11/dist-packages (from rich>=10.11.0->typer<1.0,>=0.12->gradio) (2.19.1)\n",
            "Requirement already satisfied: charset-normalizer<4,>=2 in /usr/local/lib/python3.11/dist-packages (from requests->huggingface-hub>=0.28.1->gradio) (3.4.2)\n",
            "Requirement already satisfied: urllib3<3,>=1.21.1 in /usr/local/lib/python3.11/dist-packages (from requests->huggingface-hub>=0.28.1->gradio) (2.4.0)\n",
            "Requirement already satisfied: mdurl~=0.1 in /usr/local/lib/python3.11/dist-packages (from markdown-it-py>=2.2.0->rich>=10.11.0->typer<1.0,>=0.12->gradio) (0.1.2)\n"
          ]
        }
      ],
      "source": [
        "!pip install gradio"
      ]
    },
    {
      "cell_type": "code",
      "execution_count": null,
      "metadata": {
        "colab": {
          "base_uri": "https://localhost:8080/",
          "height": 646
        },
        "id": "wtOArplwgG4q",
        "outputId": "9f962ffb-86e8-4e96-f257-58cb00f5c266"
      },
      "outputs": [
        {
          "output_type": "stream",
          "name": "stdout",
          "text": [
            "It looks like you are running Gradio on a hosted a Jupyter notebook. For the Gradio app to work, sharing must be enabled. Automatically setting `share=True` (you can turn this off by setting `share=False` in `launch()` explicitly).\n",
            "\n",
            "Colab notebook detected. To show errors in colab notebook, set debug=True in launch()\n",
            "* Running on public URL: https://3dc02b3c8602ca830a.gradio.live\n",
            "\n",
            "This share link expires in 1 week. For free permanent hosting and GPU upgrades, run `gradio deploy` from the terminal in the working directory to deploy to Hugging Face Spaces (https://huggingface.co/spaces)\n"
          ]
        },
        {
          "output_type": "display_data",
          "data": {
            "text/plain": [
              "<IPython.core.display.HTML object>"
            ],
            "text/html": [
              "<div><iframe src=\"https://3dc02b3c8602ca830a.gradio.live\" width=\"100%\" height=\"500\" allow=\"autoplay; camera; microphone; clipboard-read; clipboard-write;\" frameborder=\"0\" allowfullscreen></iframe></div>"
            ]
          },
          "metadata": {}
        },
        {
          "output_type": "execute_result",
          "data": {
            "text/plain": []
          },
          "metadata": {},
          "execution_count": 26
        }
      ],
      "source": [
        "import gradio as gr\n",
        "import torch\n",
        "\n",
        "# --- AI Prediction Logic ---\n",
        "def predict_dream(dream_text):\n",
        "    model.eval()\n",
        "    with torch.no_grad():\n",
        "        tokens = tokenizer(dream_text, truncation=True, padding=True, return_tensors=\"pt\").to(device)\n",
        "        outputs = model(input_ids=tokens[\"input_ids\"], attention_mask=tokens[\"attention_mask\"])\n",
        "        probs = torch.softmax(outputs, dim=1).cpu().numpy()[0]\n",
        "        pred_label = le.inverse_transform([probs.argmax()])[0]\n",
        "\n",
        "        result = f\"## Emotional Condition: `{pred_label}`\\n\\n\"\n",
        "        result += \"### Confidence Levels:\\n\"\n",
        "        for i, label in enumerate(le.classes_):\n",
        "            result += f\"- {label}: **{probs[i]*100:.2f}%**\\n\"\n",
        "        return result, \"output\"\n",
        "\n",
        "# --- FAQ Content ---\n",
        "faq_content = \"\"\"\n",
        "### Frequently Asked Questions (FAQ)\n",
        "\n",
        "**1. What is this app for?**\n",
        "This application is designed to analyze the content of dreams using artificial intelligence. By processing your dream description, the model predicts the emotional or psychological condition likely associated with it.\n",
        "\n",
        "**2. How does it work?**\n",
        "The model is trained on a labeled dataset of dream texts using a transformer-based neural network. It identifies emotional patterns by analyzing linguistic cues and structures in your written description.\n",
        "\n",
        "**3. Can I input nightmares or lucid dreams?**\n",
        "Yes, the model accepts all types of dreams—nightmares, lucid dreams, recurring dreams, or symbolic ones. The more descriptive your input, the better the model can analyze it.\n",
        "\n",
        "**4. Is this medical advice?**\n",
        "No, this is an experimental AI-based analysis tool and is not intended for diagnosis or therapy. It should not replace consultation with a mental health professional.\n",
        "\n",
        "**5. What emotions can it detect?**\n",
        "The system is trained to recognize a range of emotional states such as calmness, fear, anxiety, sadness, joy, and stress. These are generalized categories based on the language in your dream.\n",
        "\n",
        "**6. Will my input be saved?**\n",
        "No, your input is not saved or stored anywhere by this application. It runs in a temporary session and processes your data locally during the session only.\n",
        "\n",
        "**7. Can I use it on my phone?**\n",
        "Yes, the interface is mobile-friendly and works in mobile browsers. You can input your dream and view results just as you would on a desktop.\n",
        "\n",
        "**8. Is the result explainable?**\n",
        "Currently, the app provides the prediction and confidence levels, but it does not provide detailed explainability. Future versions may include XAI (Explainable AI) tools like SHAP or LIME to explain predictions.\n",
        "\n",
        "**9. Can I trust the prediction?**\n",
        "The prediction is based on trained data and language modeling but is not 100% accurate. It's best used for exploration and reflection rather than for making conclusions about your mental health.\n",
        "\n",
        "**10. How to improve prediction?**\n",
        "Give detailed and vivid dream descriptions with context, emotions, events, and how you felt during and after the dream. More specific input leads to more meaningful predictions.\n",
        "\n",
        "**11. Can this be integrated into other platforms?**\n",
        "Yes, the backend model can be exported or deployed as an API and integrated into mobile apps, websites, or other mental health and wellness platforms for research or experimentation.\n",
        "\"\"\"\n",
        "\n",
        "# --- Gradio Interface ---\n",
        "with gr.Blocks(title=\"Dream Emotion Analyzer\") as demo:\n",
        "    current_screen = gr.State(\"input\")\n",
        "\n",
        "    with gr.Column(visible=True) as input_screen:\n",
        "        gr.Markdown(\"## 🧠 Dream Emotion Analyzer\")\n",
        "        gr.Markdown(\"Enter your dream description below. Our AI will analyze it and detect possible emotional conditions.\")\n",
        "\n",
        "        dream_input = gr.Textbox(label=\"Enter Your Dream\", lines=5, placeholder=\"Describe your dream here...\")\n",
        "        analyze_btn = gr.Button(\"Analyse Dream\")\n",
        "        faq_btn = gr.Button(\"View FAQ\")\n",
        "\n",
        "    with gr.Column(visible=False) as output_screen:\n",
        "        gr.Markdown(\"## 🔍 Analysis Result\")\n",
        "        result_output = gr.Markdown()\n",
        "        back_btn = gr.Button(\"Back to Input\")\n",
        "\n",
        "    with gr.Column(visible=False) as faq_screen:\n",
        "        gr.Markdown(\"## 📘 Frequently Asked Questions\")\n",
        "        gr.Markdown(faq_content)\n",
        "        back_btn_faq = gr.Button(\"Back to Input\")\n",
        "\n",
        "    def handle_analyze(text):\n",
        "        result, nav = predict_dream(text)\n",
        "        return result, gr.update(visible=False), gr.update(visible=True), gr.update(visible=False)\n",
        "\n",
        "    def go_back():\n",
        "        return gr.update(visible=True), gr.update(visible=False), gr.update(visible=False)\n",
        "\n",
        "    def go_faq():\n",
        "        return gr.update(visible=False), gr.update(visible=False), gr.update(visible=True)\n",
        "\n",
        "    analyze_btn.click(fn=handle_analyze, inputs=dream_input,\n",
        "                      outputs=[result_output, input_screen, output_screen, faq_screen])\n",
        "\n",
        "    back_btn.click(fn=go_back, outputs=[input_screen, output_screen, faq_screen])\n",
        "    faq_btn.click(fn=go_faq, outputs=[input_screen, output_screen, faq_screen])\n",
        "    back_btn_faq.click(fn=go_back, outputs=[input_screen, output_screen, faq_screen])\n",
        "\n",
        "demo.launch()"
      ]
    }
  ],
  "metadata": {
    "accelerator": "GPU",
    "colab": {
      "gpuType": "T4",
      "provenance": [],
      "authorship_tag": "ABX9TyOGfifPPSk4ZJowsJ5QrPwt",
      "include_colab_link": true
    },
    "kernelspec": {
      "display_name": "Python 3",
      "name": "python3"
    },
    "language_info": {
      "name": "python"
    }
  },
  "nbformat": 4,
  "nbformat_minor": 0
}